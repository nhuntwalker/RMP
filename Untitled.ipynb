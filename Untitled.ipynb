{
 "cells": [
  {
   "cell_type": "code",
   "execution_count": 269,
   "metadata": {
    "collapsed": false
   },
   "outputs": [],
   "source": [
    "def answer(names):\n",
    "    value_dict = {}\n",
    "    alphabet = \"abcdefghijklmnopqrstuvwxyz\"\n",
    "    \n",
    "    for ii in range(len(alphabet)):\n",
    "        value_dict[alphabet[ii]] = ii+1 # evaluates letters\n",
    "\n",
    "    \n",
    "    def evaluate_name(name):\n",
    "        # evaluate names\n",
    "        values = []\n",
    "        for letter in name.lower():\n",
    "            values.append(value_dict[letter])\n",
    "        \n",
    "        return sum(values)\n",
    "          \n",
    "    names_and_values = {} # holds names and their values\n",
    "    \n",
    "    for ii in range(len(names)):\n",
    "        names_and_values[names[ii]] = evaluate_name(names[ii])\n",
    "    \n",
    "    values = names_and_values.values()\n",
    "    from_dict = names_and_values.keys()\n",
    "\n",
    "    \n",
    "    # this starts the sorting\n",
    "    new_order = [from_dict[0]]\n",
    "\n",
    "    for ii in range(len(from_dict)):\n",
    "        jj = 0\n",
    "\n",
    "        while (values[ii] < names_and_values[new_order[jj]]):\n",
    "            if jj+1 == len(new_order):\n",
    "                new_order.append(from_dict[ii])\n",
    "            jj += 1\n",
    "\n",
    "        if from_dict[ii] not in new_order:\n",
    "            new_order.insert(jj, from_dict[ii])\n",
    "            \n",
    "    # check for any equivalent-valued names and re-order them if necessary\n",
    "    for ii in range(len(new_order)):\n",
    "        for jj in range(len(new_order)):\n",
    "            word1 = new_order[ii]\n",
    "            word2 = new_order[jj]\n",
    "            \n",
    "            \n",
    "            # check if word values equal\n",
    "            if (names_and_values[word1] == names_and_values[word2]) & (word1 != word2) & (ii < jj):\n",
    "                if (value_dict[word1[0]] <= value_dict[word2[0]]):\n",
    "                    new_order[ii] = word2\n",
    "                    new_order[jj] = word1\n",
    "                \n",
    "                    ii += 1\n",
    "                           \n",
    "                    \n",
    "    print names_and_values\n",
    "    return new_order"
   ]
  },
  {
   "cell_type": "code",
   "execution_count": 270,
   "metadata": {
    "collapsed": false
   },
   "outputs": [
    {
     "name": "stdout",
     "output_type": "stream",
     "text": [
      "{'ccccccac': 22, 'cccacccc': 22, 'cacccccc': 22, 'ccaccccc': 22}\n",
      "['cacccccc', 'ccccccac', 'ccaccccc', 'ccccccac', 'cccacccc']\n"
     ]
    }
   ],
   "source": [
    "# names = [\"nick\", \"chris\", \"jen\", \"kyeisha\",\"john\",\"jack\",\"joe\",\"annette\",\"zye\",\"felix\",\"xander\",\"zxcv\",\"zzd\",\"y\",\"abcdefg\", \"vi\",\"annie\",\"yyf\",\"bonnie\", \"liz\"]\n",
    "names = [\"ccccccac\",\"cacccccc\",\"cccacccc\",\"ccccccac\",\"ccaccccc\"]\n",
    "new_names = [random_name() for ii in range(20)]\n",
    "a = answer(names)\n",
    "# a = answer(new_names)\n",
    "print a"
   ]
  },
  {
   "cell_type": "code",
   "execution_count": 213,
   "metadata": {
    "collapsed": false
   },
   "outputs": [],
   "source": [
    "value_dict = {}\n",
    "alphabet = \"abcdefghijklmnopqrstuvwxyz\"\n"
   ]
  },
  {
   "cell_type": "code",
   "execution_count": 219,
   "metadata": {
    "collapsed": false
   },
   "outputs": [],
   "source": [
    "def random_name():\n",
    "    import numpy as np\n",
    "    # generate number between 1 and 8 for name length\n",
    "    nlen = np.random.randint(1,8)\n",
    "    \n",
    "    nstring = \"\"\n",
    "    for ii in range(nlen):\n",
    "        nstring += alphabet[np.random.randint(1, 26)]\n",
    "    \n",
    "    return nstring"
   ]
  },
  {
   "cell_type": "code",
   "execution_count": 80,
   "metadata": {
    "collapsed": false
   },
   "outputs": [
    {
     "data": {
      "text/plain": [
       "'szzuxd'"
      ]
     },
     "execution_count": 80,
     "metadata": {},
     "output_type": "execute_result"
    }
   ],
   "source": [
    "random_name()"
   ]
  },
  {
   "cell_type": "code",
   "execution_count": 203,
   "metadata": {
    "collapsed": false
   },
   "outputs": [
    {
     "name": "stdout",
     "output_type": "stream",
     "text": [
      "{'ll': 24, 'vtj': 52, 'jtp': 46, 'ur': 39, 'tl': 32, 'u': 21, 'v': 22, 'x': 24, 'ew': 28, 'gl': 19}\n"
     ]
    },
    {
     "data": {
      "text/plain": [
       "['vtj', 'jtp', 'ur', 'tl', 'ew', 'x', 'll', 'v', 'u', 'gl']"
      ]
     },
     "execution_count": 203,
     "metadata": {},
     "output_type": "execute_result"
    }
   ],
   "source": [
    "\n",
    "answer(new_names)"
   ]
  },
  {
   "cell_type": "code",
   "execution_count": 266,
   "metadata": {
    "collapsed": false
   },
   "outputs": [],
   "source": [
    "a = [ii for ii in range(len(new_names)) if new_names[ii] == \"b\"]"
   ]
  },
  {
   "cell_type": "code",
   "execution_count": 268,
   "metadata": {
    "collapsed": false
   },
   "outputs": [
    {
     "data": {
      "text/plain": [
       "2"
      ]
     },
     "execution_count": 268,
     "metadata": {},
     "output_type": "execute_result"
    }
   ],
   "source": [
    "a[-1]"
   ]
  },
  {
   "cell_type": "code",
   "execution_count": null,
   "metadata": {
    "collapsed": true
   },
   "outputs": [],
   "source": []
  }
 ],
 "metadata": {
  "kernelspec": {
   "display_name": "Python 2",
   "language": "python",
   "name": "python2"
  }
 },
 "nbformat": 4,
 "nbformat_minor": 0
}
